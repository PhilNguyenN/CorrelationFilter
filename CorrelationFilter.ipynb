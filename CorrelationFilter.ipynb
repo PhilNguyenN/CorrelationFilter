{
  "nbformat": 4,
  "nbformat_minor": 0,
  "metadata": {
    "colab": {
      "name": "CorrelationFilter.ipynb",
      "provenance": [],
      "collapsed_sections": [],
      "authorship_tag": "ABX9TyOe3/BByQKeqaRfHAwGN2b4",
      "include_colab_link": true
    },
    "kernelspec": {
      "name": "python3",
      "display_name": "Python 3"
    }
  },
  "cells": [
    {
      "cell_type": "markdown",
      "metadata": {
        "id": "view-in-github",
        "colab_type": "text"
      },
      "source": [
        "<a href=\"https://colab.research.google.com/github/PhilNguyenN/CorrelationFilter/blob/master/CorrelationFilter.ipynb\" target=\"_parent\"><img src=\"https://colab.research.google.com/assets/colab-badge.svg\" alt=\"Open In Colab\"/></a>"
      ]
    },
    {
      "cell_type": "code",
      "metadata": {
        "id": "Q0sUOJ_OCodU",
        "colab_type": "code",
        "colab": {}
      },
      "source": [
        "from google.colab import files\n",
        "from google.colab.patches import cv2_imshow\n",
        "import zipfile\n",
        "import io\n",
        "import cv2\n",
        "import matplotlib.pyplot as plt\n",
        "import numpy as np\n",
        "import os\n",
        "from numpy import dot\n",
        "from numpy.linalg import norm\n",
        "\n",
        "!pip install ipython-autotime\n",
        "%load_ext autotime\n",
        "\n",
        "def calculateOR(gt_tl,gt_br,bb_tl,bb_br):\n",
        "  # 8 points\n",
        "  widthIntersection = np.maximum(0,np.minimum(gt_br[0],bb_br[0])-np.maximum(gt_tl[0],bb_tl[0]))\n",
        "  # print(widthIntersection)\n",
        "  heighIntersection = np.maximum(0,np.minimum(gt_br[1],bb_br[1])-np.maximum(gt_tl[1],bb_tl[1]))\n",
        "  # print(heighIntersection)\n",
        "  intersectionArea = widthIntersection*heighIntersection\n",
        "  groundTruthArea = (gt_br[0]-gt_tl[0])*(gt_br[1]-gt_tl[1])\n",
        "  bboxArea = (bb_br[0]-bb_tl[0])*(bb_br[1]-bb_tl[1])\n",
        "  return intersectionArea*100/(groundTruthArea+bboxArea-intersectionArea)"
      ],
      "execution_count": null,
      "outputs": []
    },
    {
      "cell_type": "code",
      "metadata": {
        "id": "Jus7DU9nC0v6",
        "colab_type": "code",
        "colab": {}
      },
      "source": [
        "data = zipfile.ZipFile(\"/content/Girl.zip\", 'r')\n",
        "data.extractall()\n",
        "data = zipfile.ZipFile(\"/content/Dog1.zip\", 'r')\n",
        "data.extractall()\n",
        "data = zipfile.ZipFile(\"/content/Liquor.zip\", 'r')\n",
        "data.extractall()\n",
        "data = zipfile.ZipFile(\"/content/Freeman4.zip\", 'r')\n",
        "data.extractall()\n",
        "data = zipfile.ZipFile(\"/content/FaceOcc2.zip\", 'r')\n",
        "data.extractall()"
      ],
      "execution_count": null,
      "outputs": []
    },
    {
      "cell_type": "markdown",
      "metadata": {
        "id": "Ii0GSZw2Imku",
        "colab_type": "text"
      },
      "source": [
        "GIRL Sequences\n"
      ]
    },
    {
      "cell_type": "code",
      "metadata": {
        "id": "Taw9ZCItDGnZ",
        "colab_type": "code",
        "colab": {
          "base_uri": "https://localhost:8080/",
          "height": 34
        },
        "outputId": "8c102681-264e-49aa-ea1c-b6490f5fc73a"
      },
      "source": [
        "# Initial frame and Gtruth\n",
        "gt = np.loadtxt(\"/content/Girl/groundtruth_rect.txt\",dtype=[('f0',int),('f1',int),('f2',int),('f3',int)])\n",
        "pictureSequences = os.listdir('/content/Girl/img')\n",
        "url_1= \"/content/Girl/img/0001.jpg\" \n",
        "firstFrame = cv2.imread(url_1)\n",
        "width,heigh,_ = firstFrame.shape\n",
        "\n",
        "# Recorded video\n",
        "res=(heigh,width) #video resolution\n",
        "fourcc = cv2.VideoWriter_fourcc(*'MP4V') #codec\n",
        "video = cv2.VideoWriter('TrackingGirl.mp4', fourcc, 20.0, res)\n",
        "\n",
        "imgCrop_ini = firstFrame[int(gt[0][1]):int(gt[0][1] + gt[0][3]), int(gt[0][0]):int(gt[0][0] + gt[0][2])]\n",
        "h,w,channels = imgCrop_ini.shape # Measure heigh + width of croped 1st frame to find the 1st BB\n",
        "\n",
        "# print(imgCrop_ini.reshape(-1).shape)\n",
        "# cv2_imshow(imgCrop_ini)\n",
        "# cv2_imshowAsd\n",
        "\n",
        "imgCrop = imgCrop_ini\n",
        "imgCrop = cv2.cvtColor(imgCrop,cv2.COLOR_BGR2GRAY)\n",
        "boxedImage = []\n",
        "i = 0 \n",
        "OR_girl = np.array([])\n",
        "cosine_collect = np.array([])\n",
        "\n",
        "for each_image in sorted(pictureSequences):\n",
        "  # Loading the processing images started from the 2nd file\n",
        "  full_path = \"/content/Girl/img/\" + each_image\n",
        "  processingImage = cv2.imread(full_path)\n",
        "  processingImage = cv2.cvtColor(processingImage,cv2.COLOR_BGR2GRAY)\n",
        "  # cv2_imshow(processingImage)\n",
        "  # Find correlation bw the previous image and current one\n",
        "  findCorrelation = cv2.matchTemplate(processingImage,imgCrop,cv2.TM_CCOEFF_NORMED)\n",
        "  promissingLocation = np.where(findCorrelation >= np.max(findCorrelation))\n",
        "  h,w = imgCrop.shape\n",
        "\n",
        "  pt = promissingLocation[::-1]\n",
        "  # print(pt)\n",
        "  temp = np.array([pt,(pt[0]+w,pt[1]+h)])\n",
        "  # print(temp)\n",
        "  boxedImage = cv2.imread(full_path)\n",
        "  # Correlation Coefficient Tracking (Green)/(Blue is without OR)\n",
        "  boxedImage = cv2.rectangle(boxedImage,pt,(pt[0]+w,pt[1]+h),(0,255,0),1)\n",
        "  # Ground Truth (Yellow)\n",
        "  boxedImage = cv2.rectangle(boxedImage,(gt[i][0],gt[i][1]),(gt[i][0] + gt[i][2],gt[i][1]+gt[i][3]),(0,255,255),1)\n",
        "  # Calculate overlap region\n",
        "  matchingRatio = calculateOR((gt[i][0],gt[i][1]),(gt[i][0] + gt[i][2],gt[i][1]+gt[i][3]),pt,(pt[0]+w,pt[1]+h))\n",
        "  # print(matchingRatio)\n",
        "  OR_girl = np.append(OR_girl,matchingRatio)\n",
        "  # make video\n",
        "  video.write(boxedImage)\n",
        "  \n",
        "  processingImage = cv2.imread(full_path) #Reloading color images\n",
        "\n",
        "  # Crop the image for the next processing loop\n",
        "  imgCrop = processingImage[int(temp[0][1]):int(temp[1][1]), int(temp[0][0]):int(temp[1][0])] # remember x,y are fliped\n",
        "  h,w,_ = imgCrop.shape #Measure heigh + width of croped 1st frame to find the 1st BB\n",
        "  imgCrop = cv2.cvtColor(imgCrop,cv2.COLOR_BGR2GRAY)\n",
        "\n",
        "  if matchingRatio < 50:\n",
        "    imgCrop = processingImage[int(gt[i][1]):int(gt[i][1]+gt[i][3]),int(gt[i][0]):int(gt[i][0] + gt[i][2])]\n",
        "    imgCrop = cv2.cvtColor(imgCrop,cv2.COLOR_BGR2GRAY)\n",
        "  \n",
        "  i = i + 1\n",
        "\n",
        "video.release()"
      ],
      "execution_count": null,
      "outputs": [
        {
          "output_type": "stream",
          "text": [
            "time: 924 ms\n"
          ],
          "name": "stdout"
        }
      ]
    },
    {
      "cell_type": "code",
      "metadata": {
        "id": "FeNAAkyqHlRy",
        "colab_type": "code",
        "colab": {
          "base_uri": "https://localhost:8080/",
          "height": 316
        },
        "outputId": "af4a01fc-ee1d-48cd-dfab-5bee3c90795f"
      },
      "source": [
        "plt.figure\n",
        "plt.plot(range(0,OR_girl.shape[0]),OR_girl,'-')\n",
        "print(np.average(OR_girl))\n",
        "print(OR_girl.shape[0])"
      ],
      "execution_count": null,
      "outputs": [
        {
          "output_type": "stream",
          "text": [
            "72.2800492297477\n",
            "500\n"
          ],
          "name": "stdout"
        },
        {
          "output_type": "display_data",
          "data": {
            "image/png": "[encoded data removed]",
            "text/plain": [
              "<Figure size 432x288 with 1 Axes>"
            ]
          },
          "metadata": {
            "tags": [],
            "needs_background": "light"
          }
        },
        {
          "output_type": "stream",
          "text": [
            "time: 164 ms\n"
          ],
          "name": "stdout"
        }
      ]
    },
    {
      "cell_type": "markdown",
      "metadata": {
        "id": "VjLH15OiIlCT",
        "colab_type": "text"
      },
      "source": [
        "DOG1 Sequences"
      ]
    },
    {
      "cell_type": "code",
      "metadata": {
        "id": "DMp4u30qI2TR",
        "colab_type": "code",
        "colab": {
          "base_uri": "https://localhost:8080/",
          "height": 34
        },
        "outputId": "37cfe6d4-d85d-4a67-f13e-ee7f1cc9a47b"
      },
      "source": [
        "# Initial frame and Gtruth\n",
        "gt = np.loadtxt(\"/content/Dog1/groundtruth_rect.txt\",delimiter=',',dtype=[('f0',int),('f1',int),('f2',int),('f3',int)])\n",
        "pictureSequences = os.listdir('/content/Dog1/img')\n",
        "url_1= \"/content/Dog1/img/0001.jpg\" \n",
        "firstFrame = cv2.imread(url_1)\n",
        "width,heigh,_ = firstFrame.shape\n",
        "\n",
        "# Recorded video\n",
        "res=(heigh,width) #video resolution\n",
        "fourcc = cv2.VideoWriter_fourcc(*'MP4V') #codec\n",
        "video = cv2.VideoWriter('TrackingDog1.mp4', fourcc, 20.0, res)\n",
        "\n",
        "imgCrop_ini = firstFrame[int(gt[0][1]):int(gt[0][1] + gt[0][3]), int(gt[0][0]):int(gt[0][0] + gt[0][2])]\n",
        "h,w,channels = imgCrop_ini.shape # Measure heigh + width of croped 1st frame to find the 1st BB\n",
        "\n",
        "# print(imgCrop_ini.reshape(-1).shape)\n",
        "# cv2_imshow(imgCrop_ini)\n",
        "# cv2_imshowAsd\n",
        "\n",
        "imgCrop = imgCrop_ini\n",
        "imgCrop = cv2.cvtColor(imgCrop,cv2.COLOR_BGR2GRAY)\n",
        "boxedImage = []\n",
        "i = 0 \n",
        "OR_dog1 = np.array([])\n",
        "cosine_collect = np.array([])\n",
        "\n",
        "for each_image in sorted(pictureSequences):\n",
        "  # Loading the processing images started from the 2nd file\n",
        "  full_path = \"/content/Dog1/img/\" + each_image\n",
        "  processingImage = cv2.imread(full_path)\n",
        "  processingImage = cv2.cvtColor(processingImage,cv2.COLOR_BGR2GRAY)\n",
        "  # cv2_imshow(processingImage)\n",
        "  # Find correlation bw the previous image and current one\n",
        "  findCorrelation = cv2.matchTemplate(processingImage,imgCrop,cv2.TM_CCOEFF_NORMED)\n",
        "  promissingLocation = np.where(findCorrelation >= np.max(findCorrelation))\n",
        "  h,w = imgCrop.shape\n",
        "\n",
        "  pt = promissingLocation[::-1]\n",
        "  # print(pt)\n",
        "  temp = np.array([pt,(pt[0]+w,pt[1]+h)])\n",
        "  # print(temp)\n",
        "  boxedImage = cv2.imread(full_path)\n",
        "  # Correlation Coefficient Tracking (Green) / (Blue)\n",
        "  boxedImage = cv2.rectangle(boxedImage,pt,(pt[0]+w,pt[1]+h),(0,255,0),1)\n",
        "  # Ground Truth (Yellow)\n",
        "  boxedImage = cv2.rectangle(boxedImage,(gt[i][0],gt[i][1]),(gt[i][0] + gt[i][2],gt[i][1]+gt[i][3]),(0,255,255),1)\n",
        "  # Calculate overlap region\n",
        "  matchingRatio = calculateOR((gt[i][0],gt[i][1]),(gt[i][0] + gt[i][2],gt[i][1]+gt[i][3]),pt,(pt[0]+w,pt[1]+h))\n",
        "  # print(matchingRatio)\n",
        "  OR_dog1 = np.append(OR_dog1,matchingRatio)\n",
        "  # make video\n",
        "  video.write(boxedImage)\n",
        "  \n",
        "  processingImage = cv2.imread(full_path) #Reloading color images\n",
        "  # Crop the image for the next processing loop\n",
        "  imgCrop = processingImage[int(temp[0][1]):int(temp[1][1]), int(temp[0][0]):int(temp[1][0])] # remember x,y are fliped\n",
        "  h,w,_ = imgCrop.shape #Measure heigh + width of croped 1st frame to find the 1st BB\n",
        "  imgCrop = cv2.cvtColor(imgCrop,cv2.COLOR_BGR2GRAY)  \n",
        "  \n",
        "  if matchingRatio < 50:\n",
        "    imgCrop = processingImage[int(gt[i][1]):int(gt[i][1]+gt[i][3]),int(gt[i][0]):int(gt[i][0] + gt[i][2])]\n",
        "    imgCrop = cv2.cvtColor(imgCrop,cv2.COLOR_BGR2GRAY)\n",
        "  \n",
        "  i = i + 1\n",
        "\n",
        "video.release()"
      ],
      "execution_count": null,
      "outputs": [
        {
          "output_type": "stream",
          "text": [
            "time: 10.4 s\n"
          ],
          "name": "stdout"
        }
      ]
    },
    {
      "cell_type": "code",
      "metadata": {
        "id": "mkLO7CYnKtvk",
        "colab_type": "code",
        "colab": {
          "base_uri": "https://localhost:8080/",
          "height": 316
        },
        "outputId": "795037b6-10d6-47d5-9da0-84b3de1fecb4"
      },
      "source": [
        "plt.figure\n",
        "plt.plot(range(0,OR_dog1.shape[0]),OR_dog1,'-')\n",
        "print(np.average(OR_dog1))\n",
        "print(OR_dog1.shape[0])"
      ],
      "execution_count": null,
      "outputs": [
        {
          "output_type": "stream",
          "text": [
            "72.3857276568894\n",
            "1350\n"
          ],
          "name": "stdout"
        },
        {
          "output_type": "display_data",
          "data": {
            "image/png": "[encoded data removed]",
            "text/plain": [
              "<Figure size 432x288 with 1 Axes>"
            ]
          },
          "metadata": {
            "tags": [],
            "needs_background": "light"
          }
        },
        {
          "output_type": "stream",
          "text": [
            "time: 165 ms\n"
          ],
          "name": "stdout"
        }
      ]
    },
    {
      "cell_type": "markdown",
      "metadata": {
        "id": "EIGDgdVBMBey",
        "colab_type": "text"
      },
      "source": [
        "LIQUOR sequences"
      ]
    },
    {
      "cell_type": "code",
      "metadata": {
        "id": "KfEhG03fLz0d",
        "colab_type": "code",
        "colab": {
          "base_uri": "https://localhost:8080/",
          "height": 34
        },
        "outputId": "3ba5dbd2-cde5-44b9-96d7-600efc2b5650"
      },
      "source": [
        "# Initial frame and Gtruth\n",
        "gt = np.loadtxt(\"/content/Liquor/groundtruth_rect.txt\",delimiter=',',dtype=[('f0',int),('f1',int),('f2',int),('f3',int)])\n",
        "pictureSequences = os.listdir('/content/Liquor/img')\n",
        "url_1= \"/content/Liquor/img/0001.jpg\" \n",
        "firstFrame = cv2.imread(url_1)\n",
        "width,heigh,_ = firstFrame.shape\n",
        "\n",
        "# Recorded video\n",
        "res=(heigh,width) #video resolution\n",
        "fourcc = cv2.VideoWriter_fourcc(*'MP4V') #codec\n",
        "video = cv2.VideoWriter('TrackingLiquor.mp4', fourcc, 20.0, res)\n",
        "\n",
        "imgCrop_ini = firstFrame[int(gt[0][1]):int(gt[0][1] + gt[0][3]), int(gt[0][0]):int(gt[0][0] + gt[0][2])]\n",
        "h,w,channels = imgCrop_ini.shape # Measure heigh + width of croped 1st frame to find the 1st BB\n",
        "\n",
        "# print(imgCrop_ini.reshape(-1).shape)\n",
        "# cv2_imshow(imgCrop_ini)\n",
        "# cv2_imshowAsd\n",
        "\n",
        "imgCrop = imgCrop_ini\n",
        "imgCrop = cv2.cvtColor(imgCrop,cv2.COLOR_BGR2GRAY)\n",
        "boxedImage = []\n",
        "i = 0 \n",
        "OR_Liquor = np.array([])\n",
        "cosine_collect = np.array([])\n",
        "\n",
        "for each_image in sorted(pictureSequences):\n",
        "  # Loading the processing images started from the 2nd file\n",
        "  full_path = \"/content/Liquor/img/\" + each_image\n",
        "  processingImage = cv2.imread(full_path)\n",
        "  processingImage = cv2.cvtColor(processingImage,cv2.COLOR_BGR2GRAY)\n",
        "  # cv2_imshow(processingImage)\n",
        "  # Find correlation bw the previous image and current one\n",
        "  findCorrelation = cv2.matchTemplate(processingImage,imgCrop,cv2.TM_CCOEFF_NORMED)\n",
        "  promissingLocation = np.where(findCorrelation >= np.max(findCorrelation))\n",
        "  h,w = imgCrop.shape\n",
        "\n",
        "  pt = promissingLocation[::-1]\n",
        "  # print(pt)\n",
        "  temp = np.array([pt,(pt[0]+w,pt[1]+h)])\n",
        "  # print(temp)\n",
        "  boxedImage = cv2.imread(full_path)\n",
        "  # Correlation Coefficient Tracking (Green) / (Blue)\n",
        "  boxedImage = cv2.rectangle(boxedImage,pt,(pt[0]+w,pt[1]+h),(0,255,0),1)\n",
        "  # Ground Truth (Yellow)\n",
        "  boxedImage = cv2.rectangle(boxedImage,(gt[i][0],gt[i][1]),(gt[i][0] + gt[i][2],gt[i][1]+gt[i][3]),(0,255,255),1)\n",
        "  # Calculate overlap region\n",
        "  matchingRatio = calculateOR((gt[i][0],gt[i][1]),(gt[i][0] + gt[i][2],gt[i][1]+gt[i][3]),pt,(pt[0]+w,pt[1]+h))\n",
        "  # print(matchingRatio)\n",
        "  OR_Liquor = np.append(OR_Liquor,matchingRatio)\n",
        "  # make video\n",
        "  video.write(boxedImage)\n",
        "  \n",
        "  processingImage = cv2.imread(full_path) #Reloading color images\n",
        "# Crop the image for the next processing loop\n",
        "  imgCrop = processingImage[int(temp[0][1]):int(temp[1][1]), int(temp[0][0]):int(temp[1][0])] # remember x,y are fliped\n",
        "  h,w,_ = imgCrop.shape #Measure heigh + width of croped 1st frame to find the 1st BB\n",
        "  imgCrop = cv2.cvtColor(imgCrop,cv2.COLOR_BGR2GRAY)\n",
        "\n",
        "  if matchingRatio < 50:\n",
        "    imgCrop = processingImage[int(gt[i][1]):int(gt[i][1]+gt[i][3]),int(gt[i][0]):int(gt[i][0] + gt[i][2])]\n",
        "    imgCrop = cv2.cvtColor(imgCrop,cv2.COLOR_BGR2GRAY)\n",
        "  \n",
        "\n",
        "  i = i + 1\n",
        "\n",
        "video.release()"
      ],
      "execution_count": null,
      "outputs": [
        {
          "output_type": "stream",
          "text": [
            "time: 58.6 s\n"
          ],
          "name": "stdout"
        }
      ]
    },
    {
      "cell_type": "code",
      "metadata": {
        "id": "T3oqrQMLL2Gn",
        "colab_type": "code",
        "colab": {
          "base_uri": "https://localhost:8080/",
          "height": 316
        },
        "outputId": "33348b3a-afb4-40fc-e2d7-28812840ede2"
      },
      "source": [
        "plt.figure\n",
        "plt.plot(range(0,OR_Liquor.shape[0]),OR_Liquor,'-')\n",
        "print(np.average(OR_Liquor))\n",
        "print(OR_Liquor.shape[0])"
      ],
      "execution_count": null,
      "outputs": [
        {
          "output_type": "stream",
          "text": [
            "86.92771702458644\n",
            "1741\n"
          ],
          "name": "stdout"
        },
        {
          "output_type": "display_data",
          "data": {
            "image/png": "[encoded data removed]",
            "text/plain": [
              "<Figure size 432x288 with 1 Axes>"
            ]
          },
          "metadata": {
            "tags": [],
            "needs_background": "light"
          }
        },
        {
          "output_type": "stream",
          "text": [
            "time: 162 ms\n"
          ],
          "name": "stdout"
        }
      ]
    },
    {
      "cell_type": "markdown",
      "metadata": {
        "id": "jjZsl7MBMc_s",
        "colab_type": "text"
      },
      "source": [
        "Freeman4 sequence"
      ]
    },
    {
      "cell_type": "code",
      "metadata": {
        "id": "iBCapFfCMsN6",
        "colab_type": "code",
        "colab": {
          "base_uri": "https://localhost:8080/",
          "height": 34
        },
        "outputId": "dc7c31a1-964f-413e-ae27-d3d65355fe8e"
      },
      "source": [
        "# Initial frame and Gtruth\n",
        "gt = np.loadtxt(\"/content/Freeman4/groundtruth_rect.txt\",delimiter=',',dtype=[('f0',int),('f1',int),('f2',int),('f3',int)])\n",
        "pictureSequences = os.listdir('/content/Freeman4/img')\n",
        "url_1= \"/content/Freeman4/img/0001.jpg\" \n",
        "firstFrame = cv2.imread(url_1)\n",
        "width,heigh,_ = firstFrame.shape\n",
        "\n",
        "# Recorded video\n",
        "res=(heigh,width) #video resolution\n",
        "fourcc = cv2.VideoWriter_fourcc(*'MP4V') #codec\n",
        "video = cv2.VideoWriter('TrackingFreeman4.mp4', fourcc, 20.0, res)\n",
        "\n",
        "imgCrop_ini = firstFrame[int(gt[0][1]):int(gt[0][1] + gt[0][3]), int(gt[0][0]):int(gt[0][0] + gt[0][2])]\n",
        "h,w,channels = imgCrop_ini.shape # Measure heigh + width of croped 1st frame to find the 1st BB\n",
        "\n",
        "# print(imgCrop_ini.reshape(-1).shape)\n",
        "# cv2_imshow(imgCrop_ini)\n",
        "# cv2_imshowAsd\n",
        "\n",
        "imgCrop = imgCrop_ini\n",
        "imgCrop = cv2.cvtColor(imgCrop,cv2.COLOR_BGR2GRAY)\n",
        "boxedImage = []\n",
        "i = 0 \n",
        "OR_Freeman4 = np.array([])\n",
        "cosine_collect = np.array([])\n",
        "\n",
        "for each_image in sorted(pictureSequences)[0:283]:\n",
        "  # Loading the processing images started from the 2nd file\n",
        "  full_path = \"/content/Freeman4/img/\" + each_image\n",
        "  processingImage = cv2.imread(full_path)\n",
        "  processingImage = cv2.cvtColor(processingImage,cv2.COLOR_BGR2GRAY)\n",
        "  # cv2_imshow(processingImage)\n",
        "  # Find correlation bw the previous image and current one\n",
        "  findCorrelation = cv2.matchTemplate(processingImage,imgCrop,cv2.TM_CCOEFF_NORMED)\n",
        "  promissingLocation = np.where(findCorrelation >= np.max(findCorrelation))\n",
        "  h,w = imgCrop.shape\n",
        "\n",
        "  pt = promissingLocation[::-1]\n",
        "  # print(pt)\n",
        "  temp = np.array([pt,(pt[0]+w,pt[1]+h)])\n",
        "  # print(temp)\n",
        "  boxedImage = cv2.imread(full_path)\n",
        "  # Correlation Coefficient Tracking (Green) / (Blue)\n",
        "  boxedImage = cv2.rectangle(boxedImage,pt,(pt[0]+w,pt[1]+h),(0,255,0),1)\n",
        "  # Ground Truth (Yellow)\n",
        "  boxedImage = cv2.rectangle(boxedImage,(gt[i][0],gt[i][1]),(gt[i][0] + gt[i][2],gt[i][1]+gt[i][3]),(0,255,255),1)\n",
        "  # Calculate overlap region\n",
        "  matchingRatio = calculateOR((gt[i][0],gt[i][1]),(gt[i][0] + gt[i][2],gt[i][1]+gt[i][3]),pt,(pt[0]+w,pt[1]+h))\n",
        "  # print(matchingRatio)\n",
        "\n",
        "  OR_Freeman4 = np.append(OR_Freeman4,matchingRatio)\n",
        "  # make video\n",
        "  video.write(boxedImage)\n",
        "  \n",
        "  processingImage = cv2.imread(full_path) #Reloading color images\n",
        "  \n",
        "  # Crop the image for the next processing loop\n",
        "  imgCrop = processingImage[int(temp[0][1]):int(temp[1][1]), int(temp[0][0]):int(temp[1][0])] # remember x,y are fliped\n",
        "  h,w,_ = imgCrop.shape #Measure heigh + width of croped 1st frame to find the 1st BB\n",
        "  imgCrop = cv2.cvtColor(imgCrop,cv2.COLOR_BGR2GRAY)\n",
        "\n",
        "  if matchingRatio < 50:\n",
        "    imgCrop = processingImage[int(gt[i][1]):int(gt[i][1]+gt[i][3]),int(gt[i][0]):int(gt[i][0] + gt[i][2])]\n",
        "    imgCrop = cv2.cvtColor(imgCrop,cv2.COLOR_BGR2GRAY)\n",
        "\n",
        "  i = i + 1\n",
        "\n",
        "video.release()"
      ],
      "execution_count": null,
      "outputs": [
        {
          "output_type": "stream",
          "text": [
            "time: 2.69 s\n"
          ],
          "name": "stdout"
        }
      ]
    },
    {
      "cell_type": "code",
      "metadata": {
        "id": "qWPcfzzzPlIR",
        "colab_type": "code",
        "colab": {
          "base_uri": "https://localhost:8080/",
          "height": 316
        },
        "outputId": "98a2fdcf-3956-402c-81c6-5d04aefb6170"
      },
      "source": [
        "plt.figure\n",
        "plt.plot(range(0,OR_Freeman4.shape[0]),OR_Freeman4,'-')\n",
        "print(np.average(OR_Freeman4))\n",
        "print(OR_Freeman4.shape[0])\n"
      ],
      "execution_count": null,
      "outputs": [
        {
          "output_type": "stream",
          "text": [
            "7.216738515064817\n",
            "283\n"
          ],
          "name": "stdout"
        },
        {
          "output_type": "display_data",
          "data": {
            "image/png": "[encoded data removed]",
            "text/plain": [
              "<Figure size 432x288 with 1 Axes>"
            ]
          },
          "metadata": {
            "tags": [],
            "needs_background": "light"
          }
        },
        {
          "output_type": "stream",
          "text": [
            "time: 153 ms\n"
          ],
          "name": "stdout"
        }
      ]
    },
    {
      "cell_type": "markdown",
      "metadata": {
        "id": "iDY_yKL7P0pI",
        "colab_type": "text"
      },
      "source": [
        "FaceOcc2 sequences"
      ]
    },
    {
      "cell_type": "code",
      "metadata": {
        "id": "GWJ440NjP_-M",
        "colab_type": "code",
        "colab": {
          "base_uri": "https://localhost:8080/",
          "height": 34
        },
        "outputId": "be6b0aa5-22c6-4e43-d201-77f6fccc6a74"
      },
      "source": [
        "# Initial frame and Gtruth\n",
        "gt = np.loadtxt(\"/content/FaceOcc2/groundtruth_rect.txt\",delimiter=',',dtype=[('f0',int),('f1',int),('f2',int),('f3',int)])\n",
        "pictureSequences = os.listdir('/content/FaceOcc2/img')\n",
        "url_1= \"/content/FaceOcc2/img/0001.jpg\" \n",
        "firstFrame = cv2.imread(url_1)\n",
        "width,heigh,_ = firstFrame.shape\n",
        "\n",
        "# Recorded video\n",
        "res=(heigh,width) #video resolution\n",
        "fourcc = cv2.VideoWriter_fourcc(*'MP4V') #codec\n",
        "video = cv2.VideoWriter('TrackingFaceOcc2.mp4', fourcc, 20.0, res)\n",
        "\n",
        "imgCrop_ini = firstFrame[int(gt[0][1]):int(gt[0][1] + gt[0][3]), int(gt[0][0]):int(gt[0][0] + gt[0][2])]\n",
        "h,w,channels = imgCrop_ini.shape # Measure heigh + width of croped 1st frame to find the 1st BB\n",
        "\n",
        "# print(imgCrop_ini.reshape(-1).shape)\n",
        "# cv2_imshow(imgCrop_ini)\n",
        "# cv2_imshowAsd\n",
        "\n",
        "imgCrop = imgCrop_ini\n",
        "imgCrop = cv2.cvtColor(imgCrop,cv2.COLOR_BGR2GRAY)\n",
        "boxedImage = []\n",
        "i = 0 \n",
        "OR_FaceOcc2 = np.array([])\n",
        "cosine_collect = np.array([])\n",
        "\n",
        "for each_image in sorted(pictureSequences):\n",
        "  # Loading the processing images started from the 2nd file\n",
        "  full_path = \"/content/FaceOcc2/img/\" + each_image\n",
        "  processingImage = cv2.imread(full_path)\n",
        "  processingImage = cv2.cvtColor(processingImage,cv2.COLOR_BGR2GRAY)\n",
        "  # cv2_imshow(processingImage)\n",
        "  # Find correlation bw the previous image and current one\n",
        "  findCorrelation = cv2.matchTemplate(processingImage,imgCrop,cv2.TM_CCOEFF_NORMED)\n",
        "  promissingLocation = np.where(findCorrelation >= np.max(findCorrelation))\n",
        "  h,w = imgCrop.shape\n",
        " \n",
        "  pt = promissingLocation[::-1]\n",
        "  # print(pt)\n",
        "  temp = np.array([pt,(pt[0]+w,pt[1]+h)])\n",
        "  # print(temp)\n",
        "  boxedImage = cv2.imread(full_path)\n",
        "  # Correlation Coefficient Tracking (Green) / (Blue)\n",
        "  boxedImage = cv2.rectangle(boxedImage,pt,(pt[0]+w,pt[1]+h),(0,255,0),1)\n",
        "  # Ground Truth (Yellow)\n",
        "  boxedImage = cv2.rectangle(boxedImage,(gt[i][0],gt[i][1]),(gt[i][0] + gt[i][2],gt[i][1]+gt[i][3]),(0,255,255),1)\n",
        "  # Calculate overlap region\n",
        "  matchingRatio = calculateOR((gt[i][0],gt[i][1]),(gt[i][0] + gt[i][2],gt[i][1]+gt[i][3]),pt,(pt[0]+w,pt[1]+h))\n",
        "  # print(matchingRatio)\n",
        "\n",
        "  OR_FaceOcc2 = np.append(OR_FaceOcc2,matchingRatio)\n",
        "  # make video\n",
        "  video.write(boxedImage)\n",
        "  \n",
        "  processingImage = cv2.imread(full_path) #Reloading color images\n",
        "  # Crop the image for the next processing loop\n",
        "  imgCrop = processingImage[int(temp[0][1]):int(temp[1][1]), int(temp[0][0]):int(temp[1][0])] # remember x,y are fliped\n",
        "  h,w,_ = imgCrop.shape #Measure heigh + width of croped 1st frame to find the 1st BB\n",
        "  imgCrop = cv2.cvtColor(imgCrop,cv2.COLOR_BGR2GRAY)\n",
        "  \n",
        "  if matchingRatio < 50:\n",
        "    imgCrop = processingImage[int(gt[i][1]):int(gt[i][1]+gt[i][3]),int(gt[i][0]):int(gt[i][0] + gt[i][2])]\n",
        "    imgCrop = cv2.cvtColor(imgCrop,cv2.COLOR_BGR2GRAY)\n",
        "\n",
        "  i = i + 1\n",
        "\n",
        "video.release()"
      ],
      "execution_count": null,
      "outputs": [
        {
          "output_type": "stream",
          "text": [
            "time: 5.69 s\n"
          ],
          "name": "stdout"
        }
      ]
    },
    {
      "cell_type": "code",
      "metadata": {
        "id": "aZMzin2iQWhw",
        "colab_type": "code",
        "colab": {
          "base_uri": "https://localhost:8080/",
          "height": 316
        },
        "outputId": "f2f8e785-cb69-4b5b-9632-a077befe970d"
      },
      "source": [
        "plt.figure\n",
        "plt.plot(range(0,OR_FaceOcc2.shape[0]),OR_FaceOcc2,'-')\n",
        "print(np.average(OR_FaceOcc2))\n",
        "print(OR_FaceOcc2.shape[0])"
      ],
      "execution_count": null,
      "outputs": [
        {
          "output_type": "stream",
          "text": [
            "74.54028263618532\n",
            "812\n"
          ],
          "name": "stdout"
        },
        {
          "output_type": "display_data",
          "data": {
            "image/png": "[encoded data removed]",
            "text/plain": [
              "<Figure size 432x288 with 1 Axes>"
            ]
          },
          "metadata": {
            "tags": [],
            "needs_background": "light"
          }
        },
        {
          "output_type": "stream",
          "text": [
            "time: 167 ms\n"
          ],
          "name": "stdout"
        }
      ]
    },
    {
      "cell_type": "code",
      "metadata": {
        "id": "aW6xaUHRzTeI",
        "colab_type": "code",
        "colab": {
          "base_uri": "https://localhost:8080/",
          "height": 119
        },
        "outputId": "e8bfa0ec-71f3-484d-f669-d6990b4ed318"
      },
      "source": [
        "print(OR_FaceOcc2.shape[0])\n",
        "print(OR_dog1.shape[0])\n",
        "print(OR_Freeman4.shape[0])\n",
        "print(OR_girl.shape[0])\n",
        "print(OR_Liquor.shape[0])\n",
        "\n",
        "extended_FaceOcc2 = np.ones(OR_Liquor.shape[0]-OR_FaceOcc2.shape[0])*np.average(OR_FaceOcc2)\n",
        "OR_FaceOcc2 = np.append(OR_FaceOcc2,extended_FaceOcc2)\n",
        "\n",
        "extended_dog1 = np.ones(OR_Liquor.shape[0]-OR_dog1.shape[0])*np.average(OR_dog1)\n",
        "OR_dog1 = np.append(OR_dog1,extended_dog1)\n",
        "\n",
        "extended_Freeman4 = np.ones(OR_Liquor.shape[0]-OR_Freeman4.shape[0])*np.average(OR_Freeman4)\n",
        "OR_Freeman4 = np.append(OR_Freeman4,extended_Freeman4)\n",
        "\n",
        "extended_girl1 = np.ones(OR_Liquor.shape[0]-OR_girl.shape[0])*np.average(OR_girl)\n",
        "OR_girl = np.append(OR_girl,extended_girl1)\n"
      ],
      "execution_count": null,
      "outputs": [
        {
          "output_type": "stream",
          "text": [
            "812\n",
            "1350\n",
            "283\n",
            "500\n",
            "1741\n",
            "time: 9.58 ms\n"
          ],
          "name": "stdout"
        }
      ]
    },
    {
      "cell_type": "code",
      "metadata": {
        "id": "hRPKY0fkyhVA",
        "colab_type": "code",
        "colab": {}
      },
      "source": [
        "plt.figure\n",
        "plt.plot(range(0,OR_FaceOcc2.shape[0]),OR_FaceOcc2,'-', label=\"FaceOcc2\")\n",
        "print(np.average(OR_FaceOcc2))\n",
        "# plt.figure\n",
        "plt.plot(range(0,OR_dog1.shape[0]),OR_dog1,'-',label=\"Dog1\")\n",
        "print(np.average(OR_dog1))\n",
        "# plt.figure\n",
        "plt.plot(range(0,OR_Freeman4.shape[0]),OR_Freeman4,'-',label=\"Freeman4\")\n",
        "print(np.average(OR_Freeman4))\n",
        "# plt.figure\n",
        "plt.plot(range(0,OR_girl.shape[0]),OR_girl,'-',label=\"Girl\")\n",
        "print(np.average(OR_girl))\n",
        "# plt.figure\n",
        "plt.plot(range(0,OR_Liquor.shape[0]),OR_Liquor,'-',label=\"Liquor\")\n",
        "print(np.average(OR_Liquor))\n",
        "\n",
        "avg = (np.average(OR_FaceOcc2) +np.average(OR_dog1) + np.average(OR_Freeman4) + np.average(OR_girl) +np.average(OR_Liquor))/5\n",
        "print(avg)\n",
        "avg = np.ones(OR_Liquor.shape[0])*avg\n",
        "plt.plot(range(0,OR_Liquor.shape[0]),avg,'-',label=\"Average\")\n",
        "\n",
        "\n",
        "plt.title(\"Tracking Accuracy of 5 Video Sequences without OR Correction\")\n",
        "plt.xlabel(\"Frames\")\n",
        "plt.ylabel(\"Overlap Ratio\")\n",
        "plt.legend(loc=\"upper right\")\n",
        "\n"
      ],
      "execution_count": null,
      "outputs": []
    }
  ]
}